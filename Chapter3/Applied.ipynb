{
 "cells": [
  {
   "attachments": {},
   "cell_type": "markdown",
   "metadata": {},
   "source": [
    "# Ch. 3 - Applied Problems\n",
    "\n",
    "8. This question involves the use of simple linear regression on the Auto data set.\n",
    "(a) Use the lm() function to perform a simple linear regression with mpg as the response and horsepower as the predictor. Use the summary() function to print the results. Comment on the output. For example:\n",
    "i. Is there a relationship between the predictor and the re- sponse?\n",
    "ii. How strong is the relationship between the predictor and the response?\n",
    "iii. Is the relationship between the predictor and the response positive or negative?\n",
    "iv. What is the predicted mpg associated with a horsepower of 98? What are the associated 95 % confidence and prediction intervals?\n",
    "(b) Plot the response and the predictor. Use the abline() function to display the least squares regression line.\n",
    "(c) Use the plot() function to produce diagnostic plots of the least squares regression fit. Comment on any problems you see with the fit.\n",
    "9. This question involves the use of multiple linear regression on the Auto data set.\n",
    "\n",
    "(a) Produce a scatterplot matrix which includes all of the variables in the data set.\n",
    "(b) Compute the matrix of correlations between the variables using the function cor(). You will need to exclude the name variable, which is qualitative.\n",
    "(c) Use the lm() function to perform a multiple linear regression with mpg as the response and all other variables except name as the predictors. Use the summary() function to print the results. Comment on the output. For instance:\n",
    "i. Is there a relationship between the predictors and the re- sponse?\n",
    "ii. Which predictors appear to have a statistically significant relationship to the response?\n",
    "iii. What does the coefficient for the year variable suggest?\n",
    "(d) Use the plot() function to produce diagnostic plots of the linear regression fit. Comment on any problems you see with the fit. Do the residual plots suggest any unusually large outliers? Does the leverage plot identify any observations with unusually high leverage?\n",
    "(e) Use the * and : symbols to fit linear regression models with interaction effects. Do any interactions appear to be statistically significant?\n",
    "(f) Try a few different transformations of the variables, such as log(X), √X, X2. Comment on your findings.\n",
    "10. This question should be answered using the Carseats data set.\n",
    "(a) Fit a multiple regression model to predict Sales using Price,\n",
    "Urban, and US.\n",
    "(b) Provide an interpretation of each coefficient in the model. Be\n",
    "careful—some of the variables in the model are qualitative!\n",
    "(c) Write out the model in equation form, being careful to handle the qualitative variables properly.\n",
    "(d) For which of the predictors can you reject the null hypothesis H0 :βj =0?\n",
    "(e) On the basis of your response to the previous question, fit a smaller model that only uses the predictors for which there is evidence of association with the outcome.\n",
    "(f) How well do the models in (a) and (e) fit the data?\n",
    "(g) Using the model from (e), obtain 95% confidence intervals for the coefficient(s).\n",
    "\n",
    "(h) Is there evidence of outliers or high leverage observations in the model from (e)?\n",
    "11. In this problem we will investigate the t-statistic for the null hypoth- esis H0 : β = 0 in simple linear regression without an intercept. To begin, we generate a predictor x and a response y as follows.\n",
    "(a) Perform a simple linear regression of y onto x, without an in- tercept. Report the coefficient estimate βˆ, the standard error of this coefficient estimate, and the t-statistic and p-value associ- ated with the null hypothesis H0 : β = 0. Comment on these results. (You can perform regression without an intercept using the command lm(y∼x+0).)\n",
    "(b) Now perform a simple linear regression of x onto y without an intercept, and report the coefficient estimate, its standard error, and the corresponding t-statistic and p-values associated with the null hypothesis H0 : β = 0. Comment on these results.\n",
    "(c) What is the relationship between the results obtained in (a) and (b)?\n",
    "(d) For the regression of Y onto X without an intercept, the t- statistic for H0 : β = 0 takes the form βˆ/SE(βˆ), where βˆ is given by (3.38), and where\n",
    "> set.seed(1)\n",
    "> x <- rnorm(100)\n",
    "> y <- 2 * x + rnorm(100)\n",
    "ˆ @)ni=1(yi −xiβˆ)2 SE(β) = )n 2 .\n",
    "(These formulas are slightly different from those given in Sec- tions 3.1.1 and 3.1.2, since here we are performing regression without an intercept.) Show algebraically, and confirm numeri- cally in R, that the t-statistic can be written as\n",
    "(√n − 1) )ni=1 xiyi 5)n2)n2)n 2.\n",
    "3.7 Exercises 125\n",
    "(n−1) i′=1xi′\n",
    "( i=1 xi)( i′=1 yi′)−( i′=1 xi′yi′)\n",
    "(e) Using the results from (d), argue that the t-statistic for the re- gression of y onto x is the same as the t-statistic for the regression ofxontoy.\n",
    "(f) In R, show that when regression is performed with an intercept, the t-statistic for H0 : β1 = 0 is the same for the regression of y onto x as it is for the regression of x onto y.\n",
    "\n",
    "12. This problem involves simple linear regression without an intercept.\n",
    "(a) Recall that the coefficient estimate βˆ for the linear regression of Y onto X without an intercept is given by (3.38). Under what circumstance is the coefficient estimate for the regression of X onto Y the same as the coefficient estimate for the regression of Y onto X?\n",
    "(b) Generate an example in R with n = 100 observations in which the coefficient estimate for the regression of X onto Y is different from the coefficient estimate for the regression of Y onto X.\n",
    "(c) Generate an example in R with n = 100 observations in which the coefficient estimate for the regression of X onto Y is the same as the coefficient estimate for the regression of Y onto X.\n",
    "13. In this exercise you will create some simulated data and will fit simple linear regression models to it. Make sure to use set.seed(1) prior to starting part (a) to ensure consistent results.\n",
    "(a) Using the rnorm() function, create a vector, x, containing 100 observations drawn from a N(0,1) distribution. This represents a feature, X.\n",
    "(b) Using the rnorm() function, create a vector, eps, containing 100 observations drawn from a N(0,0.25) distribution—a normal distribution with mean zero and variance 0.25.\n",
    "(c) Using x and eps, generate a vector y according to the model\n",
    "Y =−1+0.5X+ε. (3.39)\n",
    "What is the length of the vector y? What are the values of β0 and β1 in this linear model?\n",
    "(d) Create a scatterplot displaying the relationship between x and y. Comment on what you observe.\n",
    "(e) Fit a least squares linear model to predict y using x. Comment on the model obtained. How do βˆ0 and βˆ1 compare to β0 and β1?\n",
    "(f) Display the least squares line on the scatterplot obtained in (d). Draw the population regression line on the plot, in a different color. Use the legend() command to create an appropriate leg- end.\n",
    "(g) Now fit a polynomial regression model that predicts y using x and x2. Is there evidence that the quadratic term improves the model fit? Explain your answer.\n",
    "\n",
    "(h) Repeat (a)–(f) after modifying the data generation process in such a way that there is less noise in the data. The model (3.39) should remain the same. You can do this by decreasing the vari- ance of the normal distribution used to generate the error term ε in (b). Describe your results.\n",
    "(i) Repeat (a)–(f) after modifying the data generation process in such a way that there is more noise in the data. The model (3.39) should remain the same. You can do this by increasing the variance of the normal distribution used to generate the error term ε in (b). Describe your results.\n",
    "(j) What are the confidence intervals for β0 and β1 based on the original data set, the noisier data set, and the less noisy data set? Comment on your results.\n",
    "14. This problem focuses on the collinearity problem.\n",
    "(a) Perform the following commands in R:\n",
    "The last line corresponds to creating a linear model in which y is a function of x1 and x2. Write out the form of the linear model. What are the regression coefficients?\n",
    "(b) What is the correlation between x1 and x2? Create a scatterplot displaying the relationship between the variables.\n",
    "(c) Using this data, fit a least squares regression to predict y using x1 and x2. Describe the results obtained. What are βˆ0, βˆ1, and βˆ2? How do these relate to the true β0, β1, and β2? Can you reject the null hypothesis H0 : β1 = 0? How about the null hypothesis H0 : β2 = 0?\n",
    "(d) Now fit a least squares regression to predict y using only x1. Comment on your results. Can you reject the null hypothesis H0 :β1 =0?\n",
    "(e) Now fit a least squares regression to predict y using only x2. Comment on your results. Can you reject the null hypothesis H0 :β1 =0?\n",
    "(f) Do the results obtained in (c)–(e) contradict each other? Explain your answer.\n",
    "(g) Now suppose we obtain one additional observation, which was unfortunately mismeasured."
   ]
  },
  {
   "cell_type": "code",
   "execution_count": null,
   "metadata": {},
   "outputs": [],
   "source": [
    "study_hours = [\n",
    "    10.0, 11.5, 9.0, 16.0, 9.25, 1.0, 11.5, 9.0, 8.5, 14.5, 15.5,\n",
    "    13.75, 9.0, 8.0, 15.5, 8.0, 9.0, 6.0, 10.0, 12.0, 12.5, 12.0\n",
    "]"
   ]
  }
 ],
 "metadata": {
  "kernelspec": {
   "display_name": "pedrino",
   "language": "python",
   "name": "python3"
  },
  "language_info": {
   "codemirror_mode": {
    "name": "ipython",
    "version": 3
   },
   "file_extension": ".py",
   "mimetype": "text/x-python",
   "name": "python",
   "nbconvert_exporter": "python",
   "pygments_lexer": "ipython3",
   "version": "3.9.13 (main, Aug 25 2022, 18:29:29) \n[Clang 12.0.0 ]"
  },
  "orig_nbformat": 4,
  "vscode": {
   "interpreter": {
    "hash": "a5c095ed33f17c54ac6d38283f417617cefd9ad01b59bd96b9ef8bfa4ea6e25a"
   }
  }
 },
 "nbformat": 4,
 "nbformat_minor": 2
}
