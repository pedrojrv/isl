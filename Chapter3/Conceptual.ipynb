{
 "cells": [
  {
   "attachments": {},
   "cell_type": "markdown",
   "metadata": {},
   "source": [
    "# Conceptual Problems\n",
    "\n",
    "## 1\n",
    "\n",
    "Describe the null hypotheses to which the `p` -values given in Table 3.4 correspond. Explain what conclusions you can draw based on these p-values. Your explanation should be phrased in terms of sales, TV, radio, and newspaper, rather than in terms of the coefficients of the linear model.\n",
    "\n",
    "## 2\n",
    "\n",
    "Carefully explain the differences between the KNN classifier and KNN regression methods.\n",
    "\n",
    "## 3\n",
    "\n",
    "Suppose we have a data set with five predictors, `X1 = GPA`, `X2 = IQ`, `X3 = Level` (1 for College and 0 for High School), `X4 = Interaction between GPA and IQ`, and `X5 = Interaction between GPA and Level`. The response is starting salary after graduation (in thousands of dollars). Suppose we use least squares to fit the model, and get `βˆ0 = 50`, `βˆ1 = 20`, `βˆ2 = 0.07`, `βˆ3 = 35`, `βˆ4 = 0.01`, `βˆ5 = −10`.\n",
    "\n",
    "- (a) Which answer is correct, and why?\n",
    "\n",
    "  - i. For a fixed value of IQ and GPA, high school graduates earn more, on average, than college graduates.\n",
    "  - ii. For a fixed value of IQ and GPA, college graduates earn more, on average, than high school graduates.\n",
    "  - iii. For a fixed value of IQ and GPA, high school graduates earn more, on average, than college graduates provided that the GPA is high enough.\n",
    "  - iv. For a fixed value of IQ and GPA, college graduates earn more, on average, than high school graduates provided that the GPA is high enough.\n",
    "\n",
    "- b) Predict the salary of a college graduate with IQ of 110 and a GPA of 4.0.\n",
    "- c) True or false: Since the coefficient for the GPA/IQ interaction term is very small, there is very little evidence of an interaction effect. Justify your answer.\n",
    "\n",
    "## 4\n",
    "\n",
    "I collect a set of data (n = 100 observations) containing a single predictor and a quantitative response. I then fit a linear regression model to the data, as well as a separate cubic regression, i.e. Y = β0 +β1X +β2X2 +β3X3 +ε.\n",
    "\n",
    "(a) Suppose that the true relationship between X and Y is linear, i.e. Y = β0 + β1X + ε. Consider the training residual sum of squares (RSS) for the linear regression, and also the training RSS for the cubic regression. Would we expect one to be lower than the other, would we expect them to be the same, or is there not enough information to tell? Justify your answer.\n",
    "\n",
    "(b) Answer (a) using test rather than training RSS.\n",
    "\n",
    "(c) SupposethatthetruerelationshipbetweenXandYisnotlinear, but we don’t know how far it is from linear. Consider the training RSS for the linear regression, and also the training RSS for the cubic regression. Would we expect one to be lower than the other, would we expect them to be the same, or is there not enough information to tell? Justify your answer.\n",
    "\n",
    "(d) Answer (c) using test rather than training RSS.\n",
    "\n",
    "## 5\n",
    "\n",
    "Consider the fitted values that result from performing linear regres- sion without an intercept. In this setting, the ith fitted value takes the form\n",
    "\n",
    "y_hat_i = x_i Beta_hat\n",
    "\n",
    "where\n",
    "\n",
    "beta_hat = sum(x_i*y_i) from i=1 to n / sum(x_it^2) from it=1 to n\n",
    "\n",
    "show thatn we can write\n",
    "\n",
    "y_hat_i = sum(a_it*y_it) from it=1 to n\n",
    "\n",
    "what is a_it?\n",
    "\n",
    "Note: We interpret this result by saying that the fitted values from\n",
    "linear regression are linear combinations of the response values.\n",
    "\n",
    "## 6\n",
    "\n",
    "Using (3.4), argue that in the case of simple linear regression, the\n",
    "least squares line always passes through the point (x ̄, y ̄).\n",
    "\n",
    "## 7\n",
    "\n",
    "It is claimed in the text that in the case of simple linear regression of Y onto X, the R2 statistic (3.17) is equal to the square of the correlation between X and Y (3.18). Prove that this is the case. For simplicity, you may assume that x ̄ = y ̄ = 0.\n"
   ]
  }
 ],
 "metadata": {
  "kernelspec": {
   "display_name": "pedrino",
   "language": "python",
   "name": "python3"
  },
  "language_info": {
   "name": "python",
   "version": "3.9.13 (main, Aug 25 2022, 18:29:29) \n[Clang 12.0.0 ]"
  },
  "orig_nbformat": 4,
  "vscode": {
   "interpreter": {
    "hash": "a5c095ed33f17c54ac6d38283f417617cefd9ad01b59bd96b9ef8bfa4ea6e25a"
   }
  }
 },
 "nbformat": 4,
 "nbformat_minor": 2
}
